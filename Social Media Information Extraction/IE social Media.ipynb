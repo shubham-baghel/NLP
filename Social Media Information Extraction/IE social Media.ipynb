{
 "cells": [
  {
   "cell_type": "code",
   "execution_count": 1,
   "metadata": {},
   "outputs": [],
   "source": [
    "import pandas as pd"
   ]
  },
  {
   "cell_type": "code",
   "execution_count": 2,
   "metadata": {},
   "outputs": [],
   "source": [
    "tweets = pd.read_csv(\"./tweets/tweets.csv\", encoding='ISO-8859-1')"
   ]
  },
  {
   "cell_type": "code",
   "execution_count": 3,
   "metadata": {},
   "outputs": [
    {
     "data": {
      "text/html": [
       "<div>\n",
       "<style scoped>\n",
       "    .dataframe tbody tr th:only-of-type {\n",
       "        vertical-align: middle;\n",
       "    }\n",
       "\n",
       "    .dataframe tbody tr th {\n",
       "        vertical-align: top;\n",
       "    }\n",
       "\n",
       "    .dataframe thead th {\n",
       "        text-align: right;\n",
       "    }\n",
       "</style>\n",
       "<table border=\"1\" class=\"dataframe\">\n",
       "  <thead>\n",
       "    <tr style=\"text-align: right;\">\n",
       "      <th></th>\n",
       "      <th>Unnamed: 0</th>\n",
       "      <th>X</th>\n",
       "      <th>text</th>\n",
       "      <th>favorited</th>\n",
       "      <th>favoriteCount</th>\n",
       "      <th>replyToSN</th>\n",
       "      <th>created</th>\n",
       "      <th>truncated</th>\n",
       "      <th>replyToSID</th>\n",
       "      <th>id</th>\n",
       "      <th>replyToUID</th>\n",
       "      <th>statusSource</th>\n",
       "      <th>screenName</th>\n",
       "      <th>retweetCount</th>\n",
       "      <th>isRetweet</th>\n",
       "      <th>retweeted</th>\n",
       "    </tr>\n",
       "  </thead>\n",
       "  <tbody>\n",
       "    <tr>\n",
       "      <th>0</th>\n",
       "      <td>1</td>\n",
       "      <td>1</td>\n",
       "      <td>RT @rssurjewala: Critical question: Was PayTM ...</td>\n",
       "      <td>False</td>\n",
       "      <td>0</td>\n",
       "      <td>NaN</td>\n",
       "      <td>2016-11-23 18:40:30</td>\n",
       "      <td>False</td>\n",
       "      <td>NaN</td>\n",
       "      <td>8.014957e+17</td>\n",
       "      <td>NaN</td>\n",
       "      <td>&lt;a href=\"http://twitter.com/download/android\" ...</td>\n",
       "      <td>HASHTAGFARZIWAL</td>\n",
       "      <td>331</td>\n",
       "      <td>True</td>\n",
       "      <td>False</td>\n",
       "    </tr>\n",
       "    <tr>\n",
       "      <th>1</th>\n",
       "      <td>2</td>\n",
       "      <td>2</td>\n",
       "      <td>RT @Hemant_80: Did you vote on #Demonetization...</td>\n",
       "      <td>False</td>\n",
       "      <td>0</td>\n",
       "      <td>NaN</td>\n",
       "      <td>2016-11-23 18:40:29</td>\n",
       "      <td>False</td>\n",
       "      <td>NaN</td>\n",
       "      <td>8.014957e+17</td>\n",
       "      <td>NaN</td>\n",
       "      <td>&lt;a href=\"http://twitter.com/download/android\" ...</td>\n",
       "      <td>PRAMODKAUSHIK9</td>\n",
       "      <td>66</td>\n",
       "      <td>True</td>\n",
       "      <td>False</td>\n",
       "    </tr>\n",
       "    <tr>\n",
       "      <th>2</th>\n",
       "      <td>3</td>\n",
       "      <td>3</td>\n",
       "      <td>RT @roshankar: Former FinSec, RBI Dy Governor,...</td>\n",
       "      <td>False</td>\n",
       "      <td>0</td>\n",
       "      <td>NaN</td>\n",
       "      <td>2016-11-23 18:40:03</td>\n",
       "      <td>False</td>\n",
       "      <td>NaN</td>\n",
       "      <td>8.014955e+17</td>\n",
       "      <td>NaN</td>\n",
       "      <td>&lt;a href=\"http://twitter.com/download/android\" ...</td>\n",
       "      <td>rahulja13034944</td>\n",
       "      <td>12</td>\n",
       "      <td>True</td>\n",
       "      <td>False</td>\n",
       "    </tr>\n",
       "    <tr>\n",
       "      <th>3</th>\n",
       "      <td>4</td>\n",
       "      <td>4</td>\n",
       "      <td>RT @ANI_news: Gurugram (Haryana): Post office ...</td>\n",
       "      <td>False</td>\n",
       "      <td>0</td>\n",
       "      <td>NaN</td>\n",
       "      <td>2016-11-23 18:39:59</td>\n",
       "      <td>False</td>\n",
       "      <td>NaN</td>\n",
       "      <td>8.014955e+17</td>\n",
       "      <td>NaN</td>\n",
       "      <td>&lt;a href=\"http://twitter.com/download/android\" ...</td>\n",
       "      <td>deeptiyvd</td>\n",
       "      <td>338</td>\n",
       "      <td>True</td>\n",
       "      <td>False</td>\n",
       "    </tr>\n",
       "    <tr>\n",
       "      <th>4</th>\n",
       "      <td>5</td>\n",
       "      <td>5</td>\n",
       "      <td>RT @satishacharya: Reddy Wedding! @mail_today ...</td>\n",
       "      <td>False</td>\n",
       "      <td>0</td>\n",
       "      <td>NaN</td>\n",
       "      <td>2016-11-23 18:39:39</td>\n",
       "      <td>False</td>\n",
       "      <td>NaN</td>\n",
       "      <td>8.014954e+17</td>\n",
       "      <td>NaN</td>\n",
       "      <td>&lt;a href=\"http://cpimharyana.com\" rel=\"nofollow...</td>\n",
       "      <td>CPIMBadli</td>\n",
       "      <td>120</td>\n",
       "      <td>True</td>\n",
       "      <td>False</td>\n",
       "    </tr>\n",
       "  </tbody>\n",
       "</table>\n",
       "</div>"
      ],
      "text/plain": [
       "   Unnamed: 0  X                                               text  \\\n",
       "0           1  1  RT @rssurjewala: Critical question: Was PayTM ...   \n",
       "1           2  2  RT @Hemant_80: Did you vote on #Demonetization...   \n",
       "2           3  3  RT @roshankar: Former FinSec, RBI Dy Governor,...   \n",
       "3           4  4  RT @ANI_news: Gurugram (Haryana): Post office ...   \n",
       "4           5  5  RT @satishacharya: Reddy Wedding! @mail_today ...   \n",
       "\n",
       "   favorited  favoriteCount replyToSN              created  truncated  \\\n",
       "0      False              0       NaN  2016-11-23 18:40:30      False   \n",
       "1      False              0       NaN  2016-11-23 18:40:29      False   \n",
       "2      False              0       NaN  2016-11-23 18:40:03      False   \n",
       "3      False              0       NaN  2016-11-23 18:39:59      False   \n",
       "4      False              0       NaN  2016-11-23 18:39:39      False   \n",
       "\n",
       "   replyToSID            id  replyToUID  \\\n",
       "0         NaN  8.014957e+17         NaN   \n",
       "1         NaN  8.014957e+17         NaN   \n",
       "2         NaN  8.014955e+17         NaN   \n",
       "3         NaN  8.014955e+17         NaN   \n",
       "4         NaN  8.014954e+17         NaN   \n",
       "\n",
       "                                        statusSource       screenName  \\\n",
       "0  <a href=\"http://twitter.com/download/android\" ...  HASHTAGFARZIWAL   \n",
       "1  <a href=\"http://twitter.com/download/android\" ...   PRAMODKAUSHIK9   \n",
       "2  <a href=\"http://twitter.com/download/android\" ...  rahulja13034944   \n",
       "3  <a href=\"http://twitter.com/download/android\" ...        deeptiyvd   \n",
       "4  <a href=\"http://cpimharyana.com\" rel=\"nofollow...        CPIMBadli   \n",
       "\n",
       "   retweetCount  isRetweet  retweeted  \n",
       "0           331       True      False  \n",
       "1            66       True      False  \n",
       "2            12       True      False  \n",
       "3           338       True      False  \n",
       "4           120       True      False  "
      ]
     },
     "execution_count": 3,
     "metadata": {},
     "output_type": "execute_result"
    }
   ],
   "source": [
    "tweets.head()"
   ]
  },
  {
   "cell_type": "code",
   "execution_count": 4,
   "metadata": {},
   "outputs": [
    {
     "data": {
      "text/plain": [
       "0    RT @rssurjewala: Critical question: Was PayTM ...\n",
       "1    RT @Hemant_80: Did you vote on #Demonetization...\n",
       "2    RT @roshankar: Former FinSec, RBI Dy Governor,...\n",
       "3    RT @ANI_news: Gurugram (Haryana): Post office ...\n",
       "4    RT @satishacharya: Reddy Wedding! @mail_today ...\n",
       "Name: text, dtype: object"
      ]
     },
     "execution_count": 4,
     "metadata": {},
     "output_type": "execute_result"
    }
   ],
   "source": [
    "tweets[\"text\"].head()"
   ]
  },
  {
   "cell_type": "code",
   "execution_count": 5,
   "metadata": {},
   "outputs": [
    {
     "data": {
      "text/plain": [
       "'simple text'"
      ]
     },
     "execution_count": 5,
     "metadata": {},
     "output_type": "execute_result"
    }
   ],
   "source": [
    "## preprocess\n",
    "\n",
    "import string\n",
    "punctuations = string.punctuation\n",
    "\n",
    "from nltk.corpus import stopwords\n",
    "stopwords = stopwords.words(\"english\")\n",
    "\n",
    "def _clean(text):\n",
    "    \n",
    "    #1. Lowercasing the data\n",
    "    text = text.lower()\n",
    "    \n",
    "    #2. Remove punctuation from data\n",
    "    text = \"\".join(x for x in text if x not in punctuations)\n",
    "    \n",
    "    #3 Remove Stopwords\n",
    "    words = text.split()\n",
    "    words = [w for w in words if w not in stopwords]\n",
    "    \n",
    "    text = \" \".join(words)\n",
    "    \n",
    "    return text\n",
    "\n",
    "_clean(\"This is a simple text\")"
   ]
  },
  {
   "cell_type": "code",
   "execution_count": 6,
   "metadata": {},
   "outputs": [],
   "source": [
    "tweets[\"cleaned\"] = tweets[\"text\"].apply(_clean)"
   ]
  },
  {
   "cell_type": "code",
   "execution_count": 7,
   "metadata": {},
   "outputs": [
    {
     "data": {
      "text/html": [
       "<div>\n",
       "<style scoped>\n",
       "    .dataframe tbody tr th:only-of-type {\n",
       "        vertical-align: middle;\n",
       "    }\n",
       "\n",
       "    .dataframe tbody tr th {\n",
       "        vertical-align: top;\n",
       "    }\n",
       "\n",
       "    .dataframe thead th {\n",
       "        text-align: right;\n",
       "    }\n",
       "</style>\n",
       "<table border=\"1\" class=\"dataframe\">\n",
       "  <thead>\n",
       "    <tr style=\"text-align: right;\">\n",
       "      <th></th>\n",
       "      <th>cleaned</th>\n",
       "      <th>text</th>\n",
       "    </tr>\n",
       "  </thead>\n",
       "  <tbody>\n",
       "    <tr>\n",
       "      <th>0</th>\n",
       "      <td>rt rssurjewala critical question paytm informe...</td>\n",
       "      <td>RT @rssurjewala: Critical question: Was PayTM ...</td>\n",
       "    </tr>\n",
       "    <tr>\n",
       "      <th>1</th>\n",
       "      <td>rt hemant80 vote demonetization modi survey app</td>\n",
       "      <td>RT @Hemant_80: Did you vote on #Demonetization...</td>\n",
       "    </tr>\n",
       "    <tr>\n",
       "      <th>2</th>\n",
       "      <td>rt roshankar former finsec rbi dy governor cbd...</td>\n",
       "      <td>RT @roshankar: Former FinSec, RBI Dy Governor,...</td>\n",
       "    </tr>\n",
       "    <tr>\n",
       "      <th>3</th>\n",
       "      <td>rt aninews gurugram haryana post office employ...</td>\n",
       "      <td>RT @ANI_news: Gurugram (Haryana): Post office ...</td>\n",
       "    </tr>\n",
       "    <tr>\n",
       "      <th>4</th>\n",
       "      <td>rt satishacharya reddy wedding mailtoday carto...</td>\n",
       "      <td>RT @satishacharya: Reddy Wedding! @mail_today ...</td>\n",
       "    </tr>\n",
       "    <tr>\n",
       "      <th>...</th>\n",
       "      <td>...</td>\n",
       "      <td>...</td>\n",
       "    </tr>\n",
       "    <tr>\n",
       "      <th>14935</th>\n",
       "      <td>rt saxenavishakha ghost demonetization returns...</td>\n",
       "      <td>RT @saxenavishakha: Ghost of demonetization re...</td>\n",
       "    </tr>\n",
       "    <tr>\n",
       "      <th>14936</th>\n",
       "      <td>n modi fansd true nationalists country stil th...</td>\n",
       "      <td>N d modi fans-d true nationalists of the count...</td>\n",
       "    </tr>\n",
       "    <tr>\n",
       "      <th>14937</th>\n",
       "      <td>rt bharatbuilder lol demonetization fixed lot ...</td>\n",
       "      <td>RT @bharat_builder: Lol. Demonetization has fi...</td>\n",
       "    </tr>\n",
       "    <tr>\n",
       "      <th>14938</th>\n",
       "      <td>rt stupidosaur vidyut b team bjp cia baby cctv...</td>\n",
       "      <td>RT @Stupidosaur: @Vidyut B team of BJP. CIA ba...</td>\n",
       "    </tr>\n",
       "    <tr>\n",
       "      <th>14939</th>\n",
       "      <td>vidyut b team bjp cia baby cctv evm vvpat supp...</td>\n",
       "      <td>@Vidyut B team of BJP. CIA baby. CCTV, EVM but...</td>\n",
       "    </tr>\n",
       "  </tbody>\n",
       "</table>\n",
       "<p>14940 rows × 2 columns</p>\n",
       "</div>"
      ],
      "text/plain": [
       "                                                 cleaned  \\\n",
       "0      rt rssurjewala critical question paytm informe...   \n",
       "1        rt hemant80 vote demonetization modi survey app   \n",
       "2      rt roshankar former finsec rbi dy governor cbd...   \n",
       "3      rt aninews gurugram haryana post office employ...   \n",
       "4      rt satishacharya reddy wedding mailtoday carto...   \n",
       "...                                                  ...   \n",
       "14935  rt saxenavishakha ghost demonetization returns...   \n",
       "14936  n modi fansd true nationalists country stil th...   \n",
       "14937  rt bharatbuilder lol demonetization fixed lot ...   \n",
       "14938  rt stupidosaur vidyut b team bjp cia baby cctv...   \n",
       "14939  vidyut b team bjp cia baby cctv evm vvpat supp...   \n",
       "\n",
       "                                                    text  \n",
       "0      RT @rssurjewala: Critical question: Was PayTM ...  \n",
       "1      RT @Hemant_80: Did you vote on #Demonetization...  \n",
       "2      RT @roshankar: Former FinSec, RBI Dy Governor,...  \n",
       "3      RT @ANI_news: Gurugram (Haryana): Post office ...  \n",
       "4      RT @satishacharya: Reddy Wedding! @mail_today ...  \n",
       "...                                                  ...  \n",
       "14935  RT @saxenavishakha: Ghost of demonetization re...  \n",
       "14936  N d modi fans-d true nationalists of the count...  \n",
       "14937  RT @bharat_builder: Lol. Demonetization has fi...  \n",
       "14938  RT @Stupidosaur: @Vidyut B team of BJP. CIA ba...  \n",
       "14939  @Vidyut B team of BJP. CIA baby. CCTV, EVM but...  \n",
       "\n",
       "[14940 rows x 2 columns]"
      ]
     },
     "execution_count": 7,
     "metadata": {},
     "output_type": "execute_result"
    }
   ],
   "source": [
    "tweets[[\"cleaned\",\"text\"]]"
   ]
  },
  {
   "cell_type": "code",
   "execution_count": 8,
   "metadata": {},
   "outputs": [],
   "source": [
    "## Keywords\n",
    "## Phrases\n",
    "## People mentioned\n",
    "## HashTags\n",
    "## URL / Email\n",
    "## Person Names\n",
    "## Company Names\n",
    "## Sentiments"
   ]
  },
  {
   "cell_type": "code",
   "execution_count": 9,
   "metadata": {},
   "outputs": [
    {
     "data": {
      "text/plain": [
       "[('demonetization', 13939),\n",
       " ('rt', 11059),\n",
       " ('india', 2766),\n",
       " ('modi', 2759),\n",
       " ('pm', 2729),\n",
       " ('narendra', 1566),\n",
       " ('rich', 1509),\n",
       " ('find', 1422),\n",
       " ('dear', 1411),\n",
       " ('implement', 1399),\n",
       " ('evanspiegel', 1389),\n",
       " ('actually', 1374),\n",
       " ('amp', 1302),\n",
       " ('urautelaforever', 1273),\n",
       " ('narendramodi', 1162),\n",
       " ('people', 1092),\n",
       " ('bank', 1029),\n",
       " ('rs', 740),\n",
       " ('impact', 701),\n",
       " ('cash', 697),\n",
       " ('lakh', 686),\n",
       " ('support', 684),\n",
       " ('terrorists', 658),\n",
       " ('youtube', 642),\n",
       " ('jampk', 638),\n",
       " ('since', 596),\n",
       " ('nation', 594),\n",
       " ('thats', 581),\n",
       " ('move', 553),\n",
       " ('third', 552),\n",
       " ('40', 550),\n",
       " ('looted', 547),\n",
       " ('incident', 547),\n",
       " ('kishtwar', 544),\n",
       " ('modibharosa', 543),\n",
       " ('gauravcsawant', 541),\n",
       " ('money', 512),\n",
       " ('question', 507),\n",
       " ('back', 499),\n",
       " ('across', 453),\n",
       " ('atms', 449),\n",
       " ('like', 442),\n",
       " ('says', 401),\n",
       " ('due', 401),\n",
       " ('supports', 393),\n",
       " ('goes', 376),\n",
       " ('paytm', 374),\n",
       " ('drkumarvishwas', 358),\n",
       " ('https', 354),\n",
       " ('oscar', 353)]"
      ]
     },
     "execution_count": 9,
     "metadata": {},
     "output_type": "execute_result"
    }
   ],
   "source": [
    "from collections import Counter\n",
    "\n",
    "complete_text = \" \".join(tweets[\"cleaned\"])\n",
    "words = complete_text.split()\n",
    "Counter(words).most_common(50)"
   ]
  },
  {
   "cell_type": "code",
   "execution_count": 10,
   "metadata": {},
   "outputs": [
    {
     "data": {
      "text/plain": [
       "[('@evanspiegel', 1306),\n",
       " ('@URautelaForever:', 1273),\n",
       " ('@narendramodi', 1109),\n",
       " ('@gauravcsawant:', 541),\n",
       " ('@ModiBharosa:', 539),\n",
       " ('@DrKumarVishwas:', 350),\n",
       " ('@5Forty3:', 285),\n",
       " ('@rssurjewala:', 280),\n",
       " ('@rahulroushan:', 280),\n",
       " ('@PMOIndia', 237),\n",
       " ('@centerofright:', 237),\n",
       " ('@ShashiTharoor:', 210),\n",
       " ('@DasShaktikanta', 195),\n",
       " ('@steve_hanke:', 176),\n",
       " ('@ashu3page:', 170),\n",
       " ('@kanimozhi:', 152),\n",
       " ('@AskAnshul:', 149),\n",
       " ('@RoflGandhi_:', 147),\n",
       " ('@YouTube', 145),\n",
       " ('@Timcast:', 137),\n",
       " ('@Atheist_Krishna:', 133),\n",
       " ('@', 132),\n",
       " ('@ArvindKejriwal', 130),\n",
       " ('@Joydas:', 113),\n",
       " ('@arunjaitley', 112),\n",
       " ('@ippatel:', 110),\n",
       " ('@jamewils:', 105),\n",
       " ('@FinMinIndia', 104),\n",
       " ('@Joydeep_911:', 102),\n",
       " ('@attomeybharti:', 101),\n",
       " ('@PIB_India:', 97),\n",
       " ('@PiyushGoyalOffc:', 95),\n",
       " ('@Memeghnad', 84),\n",
       " ('@DrGPradhan:', 83),\n",
       " ('@priyaakulkarni2:', 80),\n",
       " ('@minimathur', 79),\n",
       " ('@MIB_India:', 79),\n",
       " ('@dna:', 76),\n",
       " ('@Ra_THORe:', 75),\n",
       " ('@pGurus1:', 74),\n",
       " ('@_MiteshPatel:', 73),\n",
       " ('@aaanupriyaaa:', 70),\n",
       " ('@aartic02:', 69),\n",
       " ('@NG_withINC:', 68),\n",
       " ('@Hemant_80:', 62),\n",
       " ('@jairajp:', 62),\n",
       " ('@na', 59),\n",
       " ('@harshkkapoor:', 58),\n",
       " ('@anandkamal', 54),\n",
       " ('@ShirishKunder:', 54)]"
      ]
     },
     "execution_count": 10,
     "metadata": {},
     "output_type": "execute_result"
    }
   ],
   "source": [
    "raw_text = \" \".join(tweets[\"text\"])\n",
    "mentions = [w for w in raw_text.split() if w.startswith(\"@\")]\n",
    "Counter(mentions).most_common(50)"
   ]
  },
  {
   "cell_type": "code",
   "execution_count": 11,
   "metadata": {},
   "outputs": [
    {
     "data": {
      "text/plain": [
       "[('#India', 295),\n",
       " ('#nitishkumar', 257),\n",
       " ('#GLvMI', 145),\n",
       " ('#CorruptionFreeIndia', 103),\n",
       " ('#BlackMoney', 91),\n",
       " ('#VijayMallya', 86),\n",
       " ('#IndiaFightsCorruption', 79),\n",
       " ('#Modi', 67),\n",
       " ('#NoMoneyYaar', 53),\n",
       " ('#BJP', 50),\n",
       " ('#SonuNigam', 47),\n",
       " ('#RatanTata', 44),\n",
       " ('#Insights', 44),\n",
       " ('#bulletin', 44),\n",
       " ('#boycottsnapchat', 43),\n",
       " ('#RBI', 42),\n",
       " ('#LifeInsurance', 34),\n",
       " ('#YouTubeIsDead', 30),\n",
       " ('#NMApp', 29),\n",
       " ('#MeraDeshBadalRaha', 28),\n",
       " (\"#India's\", 27),\n",
       " ('#PMModi', 25),\n",
       " ('#NarendraModi', 25),\n",
       " ('#news', 25),\n",
       " ('#TrustBJP', 25),\n",
       " ('#not', 23),\n",
       " ('#CGDTalks', 23),\n",
       " ('#Hitler', 20),\n",
       " ('#Hilarious.', 20),\n",
       " ('#lifehacks', 19),\n",
       " ('#Doltiwal', 18),\n",
       " ('#JaiChandKejriwal', 18),\n",
       " ('#survey', 18),\n",
       " ('#PM', 18),\n",
       " ('#india', 18),\n",
       " ('#ITVideo', 18),\n",
       " ('#IndiaKaDil.', 17),\n",
       " ('#', 17),\n",
       " ('#NorthEast', 17),\n",
       " ('#NoteNahiPMBadlo', 17),\n",
       " (\"#Modi's\", 17),\n",
       " ('#NetasCASHIn', 17),\n",
       " ('#IncrementPremierLeague', 17),\n",
       " (\"#NarendraModi's\", 16),\n",
       " ('#Bitcoin', 16),\n",
       " ('#WarOnCash', 16),\n",
       " ('#payments', 16),\n",
       " ('#Snapchat', 16),\n",
       " ('#blackmoney', 15),\n",
       " ('#MayawatiNextUPCM', 15)]"
      ]
     },
     "execution_count": 11,
     "metadata": {},
     "output_type": "execute_result"
    }
   ],
   "source": [
    "raw_text = \" \".join(tweets[\"text\"])\n",
    "hashtags = [w for w in raw_text.split() if w.startswith(\"#\")]\n",
    "hashtags = [w for w in hashtags if \"demo\" not in w.lower()]\n",
    "Counter(hashtags).most_common(50)"
   ]
  },
  {
   "cell_type": "code",
   "execution_count": 12,
   "metadata": {},
   "outputs": [
    {
     "data": {
      "text/plain": [
       "[('https://t.co/ObQrhlNSL6', 350),\n",
       " ('https://t.co/UodwXdPMmG', 254),\n",
       " ('https://t', 252),\n",
       " ('https://t.c', 187),\n",
       " ('https:/', 162),\n",
       " ('https://t.co/DGAI5cf05y', 120),\n",
       " ('https://t.co/pYgK8Rmg7r', 114),\n",
       " ('https://t.co/TDj2A6uO5u', 95),\n",
       " ('https://t.co/9NheK63TPg', 91),\n",
       " ('https://t.co/', 90),\n",
       " ('http', 83),\n",
       " ('https://t.co/heTEYUM0ch', 80),\n",
       " ('https:', 76),\n",
       " ('https://t.co/3TP2svF', 73),\n",
       " ('https', 72),\n",
       " ('https://t.co/E', 69),\n",
       " ('https://t.', 60),\n",
       " ('https://t.co/D85BiDMvFM', 47),\n",
       " ('https://t.co/4RMD7Fpfaw', 45),\n",
       " ('https://t.co/A8of7zh2f5', 44),\n",
       " ('https://', 44),\n",
       " ('https://t.co/fRTHY2Ltth', 41),\n",
       " ('https://t.co/NVv7slCcpr', 41),\n",
       " ('https://t.co/X2ME55oPks', 35),\n",
       " ('https://t.co/0fMh3UMbVq', 32),\n",
       " ('https://t.co/T1Agu6CH33', 29),\n",
       " ('https://t.co/P6HkkDVa3b', 28),\n",
       " ('https://g', 27),\n",
       " ('https://t.co/ThzaV7r', 25),\n",
       " ('https://t.co/ePVcU2T38F', 24),\n",
       " ('https://t.co/EqbMve2T2F', 23),\n",
       " ('https://t.co/PK9qO92K4N', 23),\n",
       " ('https://t.co/Uc6jrbvUNE', 22),\n",
       " ('https://t.co/rLr6wGdeaa', 22),\n",
       " ('https://t.co/g', 21),\n",
       " ('https://t.co/IeXuia3J0X', 20),\n",
       " ('https://t.co/DRxxTEw9Zt', 20),\n",
       " ('https://t.co', 19),\n",
       " ('https://t.co/rng1gKiUgm', 19),\n",
       " ('https://t.co/FRNAKe7', 19),\n",
       " ('https://t.co/TAEYsN4yBF', 19),\n",
       " ('https://t.co/LffZzfOKf8', 18),\n",
       " ('https://t.co/62nqWWUgL1', 18),\n",
       " ('https://t.co/rLPk6LPfv3', 17),\n",
       " ('https://t.co/2IiIELPLlf', 16),\n",
       " ('https://t.co/mMgPS675Uo', 16),\n",
       " ('https://t.co/uCS21Uv5G8', 16),\n",
       " ('https://t.co/RiJENeWX7y', 15),\n",
       " ('https://t.co/ejlAIQOs2M', 15),\n",
       " ('https://t.co/sIVo5YMhJp', 14)]"
      ]
     },
     "execution_count": 12,
     "metadata": {},
     "output_type": "execute_result"
    }
   ],
   "source": [
    "raw_text = \" \".join(tweets[\"text\"])\n",
    "links = [w for w in raw_text.split() if w.startswith(\"http\")]\n",
    "Counter(links).most_common(50)"
   ]
  },
  {
   "cell_type": "code",
   "execution_count": 13,
   "metadata": {},
   "outputs": [
    {
     "data": {
      "text/plain": [
       "[(('narendra', 'modi'), 1565),\n",
       " (('india', 'rich'), 1431),\n",
       " (('pm', 'narendra'), 1424),\n",
       " (('demonetization', 'find'), 1399),\n",
       " (('implement', 'demonetization'), 1397),\n",
       " (('rich', 'pm'), 1391),\n",
       " (('modi', 'implement'), 1376),\n",
       " (('evanspiegel', 'india'), 1371),\n",
       " (('dear', 'evanspiegel'), 1366),\n",
       " (('find', 'actually'), 1311),\n",
       " (('rt', 'urautelaforever'), 1273),\n",
       " (('urautelaforever', 'dear'), 1273),\n",
       " (('actually', 'rt'), 1024),\n",
       " (('pm', 'narendramodi'), 587),\n",
       " (('since', 'demonetization'), 572),\n",
       " (('demonetization', 'thats'), 546),\n",
       " (('lakh', 'looted'), 544),\n",
       " (('rs', '40'), 542),\n",
       " (('40', 'lakh'), 542),\n",
       " (('looted', 'bank'), 542)]"
      ]
     },
     "execution_count": 13,
     "metadata": {},
     "output_type": "execute_result"
    }
   ],
   "source": [
    "from nltk import ngrams\n",
    "bigrams = ngrams(complete_text.split(), 2)\n",
    "Counter(bigrams).most_common(20)"
   ]
  },
  {
   "cell_type": "code",
   "execution_count": 14,
   "metadata": {},
   "outputs": [],
   "source": [
    "# #APPLY NER for person or organization\n",
    "# import nltk\n",
    "# from nltk import word_tokenize, pos_tag, ne_chunk\n",
    "\n",
    "# for text in tweets[\"text\"]:\n",
    "#     entities = ne_chunk(pos_tag(word_tokenize(text)))\n",
    "#     for entity in entities:\n",
    "#         if hasattr(entity, \"label\"):\n",
    "#             print(entity)"
   ]
  },
  {
   "cell_type": "code",
   "execution_count": 17,
   "metadata": {},
   "outputs": [
    {
     "data": {
      "text/plain": [
       "Sentiment(polarity=-0.10000000000000002, subjectivity=0.6333333333333333)"
      ]
     },
     "execution_count": 17,
     "metadata": {},
     "output_type": "execute_result"
    }
   ],
   "source": [
    "from textblob import TextBlob\n",
    "TextBlob(\"many people hate policy changes such as Demonitization\").sentiment"
   ]
  },
  {
   "cell_type": "code",
   "execution_count": 16,
   "metadata": {},
   "outputs": [
    {
     "name": "stdout",
     "output_type": "stream",
     "text": [
      "Collecting textblob\n",
      "  Downloading https://files.pythonhosted.org/packages/60/f0/1d9bfcc8ee6b83472ec571406bd0dd51c0e6330ff1a51b2d29861d389e85/textblob-0.15.3-py2.py3-none-any.whl (636kB)\n",
      "Requirement already satisfied, skipping upgrade: nltk>=3.1 in d:\\anaconda\\lib\\site-packages (from textblob) (3.4)\n",
      "Requirement already satisfied, skipping upgrade: six in d:\\anaconda\\lib\\site-packages (from nltk>=3.1->textblob) (1.12.0)\n",
      "Requirement already satisfied, skipping upgrade: singledispatch in d:\\anaconda\\lib\\site-packages (from nltk>=3.1->textblob) (3.4.0.3)\n",
      "Installing collected packages: textblob\n",
      "Successfully installed textblob-0.15.3\n"
     ]
    },
    {
     "name": "stderr",
     "output_type": "stream",
     "text": [
      "WARNING: You are using pip version 19.3.1; however, version 20.0.2 is available.\n",
      "You should consider upgrading via the 'python -m pip install --upgrade pip' command.\n"
     ]
    }
   ],
   "source": [
    "#!pip install -U textblob"
   ]
  }
 ],
 "metadata": {
  "kernelspec": {
   "display_name": "Python 3",
   "language": "python",
   "name": "python3"
  },
  "language_info": {
   "codemirror_mode": {
    "name": "ipython",
    "version": 3
   },
   "file_extension": ".py",
   "mimetype": "text/x-python",
   "name": "python",
   "nbconvert_exporter": "python",
   "pygments_lexer": "ipython3",
   "version": "3.7.1"
  },
  "toc": {
   "base_numbering": 1,
   "nav_menu": {},
   "number_sections": true,
   "sideBar": true,
   "skip_h1_title": false,
   "title_cell": "Table of Contents",
   "title_sidebar": "Contents",
   "toc_cell": false,
   "toc_position": {},
   "toc_section_display": true,
   "toc_window_display": false
  }
 },
 "nbformat": 4,
 "nbformat_minor": 2
}
